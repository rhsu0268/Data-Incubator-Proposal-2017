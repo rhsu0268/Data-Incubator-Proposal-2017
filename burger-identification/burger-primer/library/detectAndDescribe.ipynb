{
 "cells": [
  {
   "cell_type": "code",
   "execution_count": 1,
   "metadata": {
    "collapsed": true
   },
   "outputs": [],
   "source": [
    "# import the necessary packages\n",
    "import numpy as np "
   ]
  },
  {
   "cell_type": "code",
   "execution_count": 1,
   "metadata": {
    "collapsed": true
   },
   "outputs": [],
   "source": [
    "class DetectAndDescribe:\n",
    "    def __init__(self, detector, descriptor):\n",
    "        # store the keypoint detector and local invariant descriptor \n",
    "        self.detector = detector \n",
    "        self.descriptor = descriptor \n",
    "        \n",
    "    def describe(self, image, useKplist=True):\n",
    "        # detect keypoints in the image and extract local invariant descriptors \n",
    "        kps = self.detector.detect(image)\n",
    "        (kps, descs) = self.descriptor.compute(image, kps)\n",
    "        \n",
    "        # if there are no keypoints or descriptors, return None\n",
    "        if len(kps) == 0:\n",
    "            return (None, None)\n",
    "        \n",
    "        # check to see if the keypoints should be converted to a NumPy array\n",
    "        if useKplist:\n",
    "            kps = np.int0([kp.pt for kp in kps])\n",
    "            \n",
    "        # return a tuple of the keypoints and descriptors\n",
    "        return (kps, descs)"
   ]
  },
  {
   "cell_type": "code",
   "execution_count": 3,
   "metadata": {
    "collapsed": true
   },
   "outputs": [],
   "source": [
    "    def match(self, kpsA, featuresA, kpsB, ratio=0.7, minMatches=50):\n",
    "        # compute the raw matches and initialize the list of actual \n",
    "        # matches\n",
    "        matcher = cv2.DescriptorMatcher_create(\"BruteForce\")\n",
    "        rawMatches = matcher.knnMatch(featuresB, featuresA, 2)\n",
    "        matches = []\n",
    "        \n",
    "        # loop over the raw matches\n",
    "        for m in rawMatches:\n",
    "            # ensure the distance is within a certain ratio of each \n",
    "            # other\n",
    "            if len(m) == 2 and m[0].distance < m[1].distance * ratio:\n",
    "                matches.append((m[0].trainIdx, m[0].queryIdx))\n",
    "                \n",
    "        # check to see if there are enough matches to process\n",
    "        if len(matches) > minMatches:\n",
    "            # construct the two sets of points\n",
    "            ptsA = np.float32([kpsA[i] for (i, _) in matches])\n",
    "            ptsB = np.float32([kpsB[j] for (_, j) in matches])\n",
    "            \n",
    "            # compute the homography between the two sets of points\n",
    "            # and compute the ratio of matched points\n",
    "            (_, status) = cv2.findHomography(ptsA, ptsB, cv2.RANSAC, 4.0)\n",
    "            \n",
    "            # return the ratio of the number of matched keypoints\n",
    "            # to the total number of keypoints\n",
    "            return float(status.sum()) / status.size\n",
    "        \n",
    "        # no matches were found \n",
    "        return -1.0"
   ]
  },
  {
   "cell_type": "code",
   "execution_count": 2,
   "metadata": {
    "collapsed": false
   },
   "outputs": [
    {
     "ename": "NameError",
     "evalue": "name 'DetectAndDescribe' is not defined",
     "output_type": "error",
     "traceback": [
      "\u001b[0;31m---------------------------------------------------------------------------\u001b[0m",
      "\u001b[0;31mNameError\u001b[0m                                 Traceback (most recent call last)",
      "\u001b[0;32m<ipython-input-2-dce548b4c0a7>\u001b[0m in \u001b[0;36m<module>\u001b[0;34m()\u001b[0m\n\u001b[0;32m----> 1\u001b[0;31m \u001b[0mdad\u001b[0m \u001b[0;34m=\u001b[0m \u001b[0mDetectAndDescribe\u001b[0m\u001b[0;34m(\u001b[0m\u001b[0mcv2\u001b[0m\u001b[0;34m.\u001b[0m\u001b[0mFeatureDetector_create\u001b[0m\u001b[0;34m(\u001b[0m\u001b[0;34m\"SIFT\"\u001b[0m\u001b[0;34m)\u001b[0m\u001b[0;34m,\u001b[0m \u001b[0mcv2\u001b[0m\u001b[0;34m.\u001b[0m\u001b[0mDescriptorExtractor_create\u001b[0m\u001b[0;34m(\u001b[0m\u001b[0;34m\"SIFT\"\u001b[0m\u001b[0;34m)\u001b[0m\u001b[0;34m)\u001b[0m\u001b[0;34m\u001b[0m\u001b[0m\n\u001b[0m\u001b[1;32m      2\u001b[0m \u001b[0;32mprint\u001b[0m\u001b[0;34m(\u001b[0m\u001b[0mdad\u001b[0m\u001b[0;34m)\u001b[0m\u001b[0;34m\u001b[0m\u001b[0m\n",
      "\u001b[0;31mNameError\u001b[0m: name 'DetectAndDescribe' is not defined"
     ]
    }
   ],
   "source": [
    "dad = DetectAndDescribe(cv2.FeatureDetector_create(\"SIFT\"), cv2.DescriptorExtractor_create(\"SIFT\"))\n",
    "print(dad)"
   ]
  },
  {
   "cell_type": "code",
   "execution_count": null,
   "metadata": {
    "collapsed": true
   },
   "outputs": [],
   "source": []
  }
 ],
 "metadata": {
  "kernelspec": {
   "display_name": "Python 2",
   "language": "python",
   "name": "python2"
  },
  "language_info": {
   "codemirror_mode": {
    "name": "ipython",
    "version": 2
   },
   "file_extension": ".py",
   "mimetype": "text/x-python",
   "name": "python",
   "nbconvert_exporter": "python",
   "pygments_lexer": "ipython2",
   "version": "2.7.11"
  }
 },
 "nbformat": 4,
 "nbformat_minor": 0
}
