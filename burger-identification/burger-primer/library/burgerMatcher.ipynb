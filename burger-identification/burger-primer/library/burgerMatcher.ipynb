{
 "cells": [
  {
   "cell_type": "code",
   "execution_count": 1,
   "metadata": {
    "collapsed": true
   },
   "outputs": [],
   "source": [
    "# import the necessary packages\n",
    "import numpy as np \n",
    "import cv2"
   ]
  },
  {
   "cell_type": "code",
   "execution_count": 2,
   "metadata": {
    "collapsed": true
   },
   "outputs": [],
   "source": [
    "class BurgerMatcher:\n",
    "    def __init__(self, descriptor, burgerPaths):\n",
    "        self.descriptor = descriptor \n",
    "        self.burgerPaths = burgerPaths"
   ]
  },
  {
   "cell_type": "code",
   "execution_count": 4,
   "metadata": {
    "collapsed": true
   },
   "outputs": [],
   "source": [
    "    # keypoints and descriptors extracted from the query image \n",
    "    def search(self, queryKps, queryDescs):\n",
    "        # initialize the dictionary of results\n",
    "        results = {}\n",
    "        \n",
    "        # loop over the burger images\n",
    "        for burgerPath in self.burgerPaths:\n",
    "            # load the query image, convert it to grayscale, and extract\n",
    "            # keypoints and descriptors\n",
    "            burger = cv2.imread(burgerPath)\n",
    "            gray = cv2.cvtColor(burger, cv2.COLOR_BGR2GRAY)\n",
    "            (kps, descs) = self.descriptor.describe(gray)\n",
    "            print(kps, descs)\n",
    "            \n",
    "            # determine the number of matched, inlier keypoints, \n",
    "            # then update the results\n",
    "            score = self.match(queryKps, queryDescs, kps, descs)\n",
    "            results[burgerPath] = score\n",
    "            \n",
    "        # if matches were found, sort them \n",
    "        if len(results) > 0:\n",
    "            results = sorted([(v, k) for (k, v) in results.items() if v > 0], reverse = True)\n",
    "            \n",
    "        # return the results\n",
    "        return results\n",
    "            "
   ]
  },
  {
   "cell_type": "code",
   "execution_count": null,
   "metadata": {
    "collapsed": true
   },
   "outputs": [],
   "source": []
  }
 ],
 "metadata": {
  "kernelspec": {
   "display_name": "Python 2",
   "language": "python",
   "name": "python2"
  },
  "language_info": {
   "codemirror_mode": {
    "name": "ipython",
    "version": 2
   },
   "file_extension": ".py",
   "mimetype": "text/x-python",
   "name": "python",
   "nbconvert_exporter": "python",
   "pygments_lexer": "ipython2",
   "version": "2.7.11"
  }
 },
 "nbformat": 4,
 "nbformat_minor": 0
}
