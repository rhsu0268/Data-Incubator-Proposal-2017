{
 "cells": [
  {
   "cell_type": "code",
   "execution_count": 1,
   "metadata": {
    "collapsed": true
   },
   "outputs": [],
   "source": [
    "# import the necessary packages\n",
    "import numpy as np "
   ]
  },
  {
   "cell_type": "code",
   "execution_count": 1,
   "metadata": {
    "collapsed": true
   },
   "outputs": [],
   "source": [
    "class DetectAndDescribe:\n",
    "    def __init__(self, detector, descriptor):\n",
    "        # store the keypoint detector and local invariant descriptor \n",
    "        self.detector = detector \n",
    "        self.descriptor = descriptor \n",
    "        \n",
    "    def describe(self, image, useKplist=True):\n",
    "        # detect keypoints in the image and extract local invariant descriptors \n",
    "        kps = self.detector.detect(image)\n",
    "        (kps, descs) = self.descriptor.compute(image, kps)\n",
    "        \n",
    "        # if there are no keypoints or descriptors, return None\n",
    "        if len(kps) == 0:\n",
    "            return (None, None)\n",
    "        \n",
    "        # check to see if the keypoints should be converted to a NumPy array\n",
    "        if useKplist:\n",
    "            kps = np.int0([kp.pt for kp in kps])\n",
    "            \n",
    "        # return a tuple of the keypoints and descriptors\n",
    "        return (kps, descs)"
   ]
  },
  {
   "cell_type": "code",
   "execution_count": null,
   "metadata": {
    "collapsed": true
   },
   "outputs": [],
   "source": [
    "    def match(self, kpsA, featuresA, kpsB, ratio=0.7, minMatches=50):\n",
    "        # compute the raw matches and initialize the list of actual \n",
    "        # matches\n",
    "        matcher = cv2.DescriptorMatcher_create(\"BruteForce\")\n",
    "        rawMatchers = matcher.knnMatch(featuresB, featuresA, 2)\n",
    "        matches = []\n",
    "        \n",
    "        # loop over the raw matches\n",
    "        for m in rawMatches:\n",
    "            # ensure the distance is within a certain ratio of each \n",
    "            # other\n",
    "            if len(m) == 2 and m[0].distance < m[1].distance * ratio:\n",
    "                matches.append((m[0].trainIdx, m[0].queryIdx))\n",
    "                \n",
    "        # check to see if there are enough matches to process\n",
    "        if len(matches) > minMatches:\n",
    "            # construct the two sets of points\n",
    "            ptsA = np.float32([kpsA[i] for (i, _) in matches])\n",
    "            ptsB = np.float32([kpsB[j] for (_, j) in matches])"
   ]
  }
 ],
 "metadata": {
  "kernelspec": {
   "display_name": "Python 2",
   "language": "python",
   "name": "python2"
  },
  "language_info": {
   "codemirror_mode": {
    "name": "ipython",
    "version": 2
   },
   "file_extension": ".py",
   "mimetype": "text/x-python",
   "name": "python",
   "nbconvert_exporter": "python",
   "pygments_lexer": "ipython2",
   "version": "2.7.11"
  }
 },
 "nbformat": 4,
 "nbformat_minor": 0
}
