{
 "cells": [
  {
   "cell_type": "code",
   "execution_count": 2,
   "metadata": {
    "collapsed": false
   },
   "outputs": [],
   "source": [
    "# import the necessary packages\n",
    "from __future__ import print_function\n",
    "import sys\n",
    "sys.path.insert(0, \"library/\")\n",
    "\n",
    "import detectAndDescribe as DetectAndDescribe\n",
    "import burgerMatcher as BurgerMatcher\n",
    "import argparse\n",
    "import glob\n",
    "import csv\n",
    "import cv2"
   ]
  },
  {
   "cell_type": "code",
   "execution_count": 3,
   "metadata": {
    "collapsed": true
   },
   "outputs": [],
   "source": [
    "# initalize the database dictionary of covers\n",
    "db = {}"
   ]
  },
  {
   "cell_type": "code",
   "execution_count": 5,
   "metadata": {
    "collapsed": false
   },
   "outputs": [
    {
     "name": "stdout",
     "output_type": "stream",
     "text": [
      "['BTS Burger', 'BTS']\n",
      "['Tejas Burger', 'Tejas']\n"
     ]
    }
   ],
   "source": [
    "# loop over the database\n",
    "for l in csv.reader(open('burgers.csv')):\n",
    "    # update the database using the image ID as the key\n",
    "    db[l[0]] = l[1:]\n",
    "    print(l[1:])"
   ]
  },
  {
   "cell_type": "code",
   "execution_count": 6,
   "metadata": {
    "collapsed": true
   },
   "outputs": [],
   "source": [
    "# initialize the burger descriptor and burger matcher\n",
    "dad = DetectAndDescribe.DetectAndDescribe(cv2.FeatureDetector_create(\"SIFT\"), cv2.DescriptorExtractor_create(\"SIFT\"))"
   ]
  },
  {
   "cell_type": "code",
   "execution_count": 8,
   "metadata": {
    "collapsed": false
   },
   "outputs": [],
   "source": [
    "cv = BurgerMatcher.BurgerMatcher(dad, glob.glob('burger' + \"/*.jpg\"))"
   ]
  },
  {
   "cell_type": "code",
   "execution_count": null,
   "metadata": {
    "collapsed": true
   },
   "outputs": [],
   "source": [
    "# load the query image, covert it to grayscale, and extract\n",
    "# keypoints and descriptors\n",
    "queryImage = cv2.imread('queries/bts-burger.jpg')"
   ]
  }
 ],
 "metadata": {
  "kernelspec": {
   "display_name": "Python 2",
   "language": "python",
   "name": "python2"
  },
  "language_info": {
   "codemirror_mode": {
    "name": "ipython",
    "version": 2
   },
   "file_extension": ".py",
   "mimetype": "text/x-python",
   "name": "python",
   "nbconvert_exporter": "python",
   "pygments_lexer": "ipython2",
   "version": "2.7.11"
  }
 },
 "nbformat": 4,
 "nbformat_minor": 0
}
